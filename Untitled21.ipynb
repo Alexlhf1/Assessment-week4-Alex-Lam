{
  "nbformat": 4,
  "nbformat_minor": 0,
  "metadata": {
    "colab": {
      "provenance": [],
      "collapsed_sections": []
    },
    "kernelspec": {
      "name": "python3",
      "display_name": "Python 3"
    },
    "language_info": {
      "name": "python"
    }
  },
  "cells": [
    {
      "cell_type": "code",
      "execution_count": null,
      "metadata": {
        "id": "YMZbH-TICZ7x"
      },
      "outputs": [],
      "source": [
        "import json\n",
        "import numpy as np\n",
        "import requests as r\n",
        "from bs4 import BeautifulSoup\n",
        "import pandas as pd\n",
        "from datetime import date\n",
        "from datetime import datetime"
      ]
    },
    {
      "cell_type": "code",
      "source": [
        "def CarParkInfo():\n",
        "\n",
        "  url = (\"https://openapi.westkowloon.hk/datagovhk/carpark\")\n",
        "  header = {'User-Agent': 'Mozilla/5.0 (Windows NT 10.0; Win64; x64) AppleWebKit/537.36 (KHTML, like Gecko) Chrome/105.0.0.0 Safari/537.36'}\n",
        "  res = r.get(url,headers=header)\n",
        "  content = json.loads(res.text)\n",
        "\n",
        "  a = content['carParks'][0]['name']['en']\n",
        "  b = content['carParks'][0]['heightLimit']\n",
        "  c = content['carParks'][1]['name']['en']\n",
        "  d = content['carParks'][1]['heightLimit']\n",
        "\n",
        "  z = (a,b,c,d)\n",
        "\n",
        "  return z \n",
        "\n",
        "CarParkInfo()"
      ],
      "metadata": {
        "id": "033nePzADFFF",
        "colab": {
          "base_uri": "https://localhost:8080/"
        },
        "outputId": "6a316246-4f47-4fc5-bb4a-8cf98ccc9b5f"
      },
      "execution_count": null,
      "outputs": [
        {
          "output_type": "execute_result",
          "data": {
            "text/plain": [
              "('Xiqu Centre Car Park, West Kowloon Cultural District',\n",
              " 'N/A',\n",
              " 'Art Park (Zone E) Car Park, West Kowloon Cultural District',\n",
              " 2.1)"
            ]
          },
          "metadata": {},
          "execution_count": 77
        }
      ]
    },
    {
      "cell_type": "code",
      "source": [
        "def findTotalSum(n):\n",
        "  q = []  \n",
        "  for i in range(1,n+1):\n",
        "      url = (f'http://books.toscrape.com/catalogue/page-{i}.html')\n",
        "      header = {'User-Agent': 'Mozilla/5.0 (Windows NT 10.0; Win64; x64) AppleWebKit/537.36 (KHTML, like Gecko) Chrome/105.0.0.0 Safari/537.36'}\n",
        "      res = r.get(url,headers=header)\n",
        "      soup = BeautifulSoup(res.text,'html.parser')\n",
        "\n",
        "      price = soup.find_all('div',{'class':'product_price'})\n",
        "      a= []\n",
        "      for i in price:\n",
        "          book_price = i.find('p',{'class':'price_color'}).text\n",
        "          b = book_price[2:]\n",
        "          a.append(float(b))\n",
        "      c = sum(a)\n",
        "      q.append(c)\n",
        "  return sum(q)\n",
        "\n",
        "findTotalSum(3)\n",
        "\n",
        "\n"
      ],
      "metadata": {
        "colab": {
          "base_uri": "https://localhost:8080/"
        },
        "id": "C6w6f9PYz9Q-",
        "outputId": "53ea6548-54ee-44a8-e8c2-bd49a044e03b"
      },
      "execution_count": 231,
      "outputs": [
        {
          "output_type": "execute_result",
          "data": {
            "text/plain": [
              "2100.16"
            ]
          },
          "metadata": {},
          "execution_count": 231
        }
      ]
    }
  ]
}